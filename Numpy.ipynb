{
  "nbformat": 4,
  "nbformat_minor": 0,
  "metadata": {
    "colab": {
      "name": "Numpy.ipynb",
      "provenance": [],
      "collapsed_sections": [],
      "authorship_tag": "ABX9TyOWCpVWjEpAJGWZ4SqxW50c",
      "include_colab_link": true
    },
    "kernelspec": {
      "name": "python3",
      "display_name": "Python 3"
    },
    "language_info": {
      "name": "python"
    }
  },
  "cells": [
    {
      "cell_type": "markdown",
      "metadata": {
        "id": "view-in-github",
        "colab_type": "text"
      },
      "source": [
        "<a href=\"https://colab.research.google.com/github/mainackdasgupta/ML-Basics/blob/main/Numpy.ipynb\" target=\"_parent\"><img src=\"https://colab.research.google.com/assets/colab-badge.svg\" alt=\"Open In Colab\"/></a>"
      ]
    },
    {
      "cell_type": "markdown",
      "metadata": {
        "id": "LcFBzNQYtfUk"
      },
      "source": [
        "**NUMPY**"
      ]
    },
    {
      "cell_type": "markdown",
      "metadata": {
        "id": "0QtiCiHe0M7B"
      },
      "source": [
        "1. Introduction"
      ]
    },
    {
      "cell_type": "code",
      "metadata": {
        "colab": {
          "base_uri": "https://localhost:8080/"
        },
        "id": "dnPZrxLhto-5",
        "outputId": "5b395d02-d9e6-4972-d098-a6861e3c400e"
      },
      "source": [
        "#intro\n",
        "import numpy as np\n",
        "import time\n",
        "import sys\n",
        "a = np.array([1,2,3])\n",
        "print(a)\n",
        "print(a[0])\n",
        "print(a[2])\n",
        "\n",
        "# who consumes less memory\n",
        "l = range(1000)\n",
        "print(sys.getsizeof(l)*len(l))\n",
        "array = np.arange(1000)\n",
        "print(array.size*array.itemsize)\n",
        "\n",
        "# who is fast\n",
        "size = 1000000\n",
        "l1 = range(size)\n",
        "l2 = range(size)\n",
        "a1 = np.arange(size)\n",
        "a2 = np.arange(size)\n",
        "#python list\n",
        "start = time.time()\n",
        "result = [(x+y) for x,y in zip(l1,l2)]\n",
        "print(\"python list took:\",(time.time()-start)*1000) #1000 for miliseconds\n",
        "# numpy array\n",
        "start = time.time()\n",
        "result = a1+a2\n",
        "print(\"numpy took:\", (time.time()-start)*1000)\n",
        "\n",
        "#operations\n",
        "a3 = np.array([4,5,6])\n",
        "print(a+a3)\n",
        "print(a*a3)"
      ],
      "execution_count": null,
      "outputs": [
        {
          "output_type": "stream",
          "text": [
            "[1 2 3]\n",
            "1\n",
            "3\n",
            "48000\n",
            "8000\n",
            "python list took: 134.66715812683105\n",
            "numpy took: 18.17178726196289\n",
            "[5 7 9]\n",
            "[ 4 10 18]\n"
          ],
          "name": "stdout"
        }
      ]
    },
    {
      "cell_type": "markdown",
      "metadata": {
        "id": "t2qIzecPz0Db"
      },
      "source": [
        "2. Basic array operations"
      ]
    },
    {
      "cell_type": "code",
      "metadata": {
        "colab": {
          "base_uri": "https://localhost:8080/"
        },
        "id": "RLVsi7EOeEr7",
        "outputId": "0c0279b6-3e9f-42d7-ffaf-100b778b1048"
      },
      "source": [
        "import numpy as np\n",
        "a1 = np.array([5,6,9])\n",
        "a = np.array([[1,2],[3,4],[5,6]])\n",
        "print(a.ndim)\n",
        "print(a1.ndim) #ndim is dimension\n",
        "print(a.size)\n",
        "print(a.itemsize)\n",
        "print(a.dtype)\n",
        "\n",
        "a = np.array([[1,2],[3,4],[5,6]],dtype=np.float64)\n",
        "print(a.itemsize)\n",
        "print(a.dtype)\n",
        "print(a.shape) # how many no. of rows and column\n",
        "print(a)\n",
        "\n",
        "a = np.array([[1,2],[3,4],[5,6]],dtype=np.complex)\n",
        "print(a.itemsize)\n",
        "print(a.dtype)\n",
        "print(a)\n",
        "print(a.reshape(2,3))\n",
        "print(a.reshape(6,1))\n",
        "\n",
        "print(np.arange(1,5))\n",
        "print(np.arange(1,7))\n",
        "print(np.arange(1,5,2))\n",
        "print(np.linspace(1,5,10))\n",
        "print(np.linspace(1,7,8))\n",
        "\n",
        "print(a.min())\n",
        "a3 = np.array([[1,3],[2,4],[5,6]])\n",
        "b = np. array([[6,7],[8,9]])\n",
        "print(a3.min())\n",
        "print(a3.sum())\n",
        "print(np.std(a3)) #std is standard deviation in numpy\n",
        "print(np.sqrt(a3))\n",
        "print(a3.sum(axis=0)) # axis 0 is for column\n",
        "print(a3.sum(axis=1)) # axis 1 is for row\n",
        "print(a3.dot(b))  #multiply the elements"
      ],
      "execution_count": null,
      "outputs": [
        {
          "output_type": "stream",
          "text": [
            "2\n",
            "1\n",
            "6\n",
            "8\n",
            "int64\n",
            "8\n",
            "float64\n",
            "(3, 2)\n",
            "[[1. 2.]\n",
            " [3. 4.]\n",
            " [5. 6.]]\n",
            "16\n",
            "complex128\n",
            "[[1.+0.j 2.+0.j]\n",
            " [3.+0.j 4.+0.j]\n",
            " [5.+0.j 6.+0.j]]\n",
            "[[1.+0.j 2.+0.j 3.+0.j]\n",
            " [4.+0.j 5.+0.j 6.+0.j]]\n",
            "[[1.+0.j]\n",
            " [2.+0.j]\n",
            " [3.+0.j]\n",
            " [4.+0.j]\n",
            " [5.+0.j]\n",
            " [6.+0.j]]\n",
            "[1 2 3 4]\n",
            "[1 2 3 4 5 6]\n",
            "[1 3]\n",
            "[1.         1.44444444 1.88888889 2.33333333 2.77777778 3.22222222\n",
            " 3.66666667 4.11111111 4.55555556 5.        ]\n",
            "[1.         1.85714286 2.71428571 3.57142857 4.42857143 5.28571429\n",
            " 6.14285714 7.        ]\n",
            "(1+0j)\n",
            "1\n",
            "21\n",
            "1.707825127659933\n",
            "[[1.         1.73205081]\n",
            " [1.41421356 2.        ]\n",
            " [2.23606798 2.44948974]]\n",
            "[ 8 13]\n",
            "[ 4  6 11]\n",
            "[[30 34]\n",
            " [44 50]\n",
            " [78 89]]\n"
          ],
          "name": "stdout"
        }
      ]
    },
    {
      "cell_type": "markdown",
      "metadata": {
        "id": "6rOShPhGz_H4"
      },
      "source": [
        "3. Slicing and stacking"
      ]
    },
    {
      "cell_type": "code",
      "metadata": {
        "colab": {
          "base_uri": "https://localhost:8080/"
        },
        "id": "m-BKDJjIzr08",
        "outputId": "a4cad9ff-90ca-4053-9875-3a5d90396e18"
      },
      "source": [
        "number1 = input(\"First number: \")\n",
        "number2 = input(\"\\nSecond number: \")\n",
        "  \n",
        "# Adding two numbers\n",
        "# User might also enter float numbers\n",
        "sum = float(number1) + float(number2)\n",
        "  \n",
        "# Display the sum\n",
        "# will print value in float\n",
        "print(\"The sum of {0} and {1} is {2}\" .format(number1, number2, sum))\n"
      ],
      "execution_count": null,
      "outputs": [
        {
          "output_type": "stream",
          "text": [
            "First number: 5\n",
            "\n",
            "Second number: 2\n",
            "The sum of 5 and 2 is 7.0\n"
          ],
          "name": "stdout"
        }
      ]
    },
    {
      "cell_type": "code",
      "metadata": {
        "id": "bl9vmWopoYY3",
        "colab": {
          "base_uri": "https://localhost:8080/"
        },
        "outputId": "ba892849-26db-4abd-e57d-0504f16d1c07"
      },
      "source": [
        ""
      ],
      "execution_count": null,
      "outputs": [
        {
          "output_type": "stream",
          "text": [
            "Sorted array is:\n",
            " 11\n",
            " 12\n",
            " 22\n",
            " 25\n",
            " 34\n",
            " 64\n",
            " 90\n"
          ],
          "name": "stdout"
        }
      ]
    }
  ]
}