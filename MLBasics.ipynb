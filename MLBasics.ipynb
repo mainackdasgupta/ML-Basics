{
  "nbformat": 4,
  "nbformat_minor": 0,
  "metadata": {
    "colab": {
      "name": "MLBasics.ipynb",
      "provenance": [],
      "toc_visible": true,
      "authorship_tag": "ABX9TyMTS0Z0HQXSP3GlZ/u1ncov",
      "include_colab_link": true
    },
    "kernelspec": {
      "name": "python3",
      "display_name": "Python 3"
    },
    "language_info": {
      "name": "python"
    }
  },
  "cells": [
    {
      "cell_type": "markdown",
      "metadata": {
        "id": "view-in-github",
        "colab_type": "text"
      },
      "source": [
        "<a href=\"https://colab.research.google.com/github/mainackdasgupta/ML-Basics/blob/main/MLBasics.ipynb\" target=\"_parent\"><img src=\"https://colab.research.google.com/assets/colab-badge.svg\" alt=\"Open In Colab\"/></a>"
      ]
    },
    {
      "cell_type": "markdown",
      "metadata": {
        "id": "Stz6huOf4a7G"
      },
      "source": [
        "**1. Statistical  Review**"
      ]
    },
    {
      "cell_type": "code",
      "metadata": {
        "colab": {
          "base_uri": "https://localhost:8080/"
        },
        "id": "ohnwUVGcyOwH",
        "outputId": "25a40f4e-ba20-4ea8-f3b3-71665e499b5f"
      },
      "source": [
        "import numpy as np\n",
        "data=[15,16,18,19,22,24,29,30,34]\n",
        "print(\"mean:\",np.mean(data))\n",
        "print(\"median:\",np.median(data))\n",
        "print(\"50th percentile (median):\",np.percentile(data,50))\n",
        "print(\"24th percentile:\",np.percentile(data,25))\n",
        "print(\"79th percentile:\",np.percentile(data,79))\n",
        "print(\"standard deviation:\",np.std(data))\n",
        "print(np.std(data))\n",
        "print(\"varience:\",np.var(data))"
      ],
      "execution_count": null,
      "outputs": [
        {
          "output_type": "stream",
          "text": [
            "mean: 23.0\n",
            "median: 22.0\n",
            "50th percentile (median): 22.0\n",
            "24th percentile: 18.0\n",
            "79th percentile: 29.32\n",
            "standard deviation: 6.342099196813483\n",
            "6.342099196813483\n",
            "varience: 40.22222222222222\n"
          ],
          "name": "stdout"
        }
      ]
    },
    {
      "cell_type": "markdown",
      "metadata": {
        "id": "l-I9rf0dwn6X"
      },
      "source": [
        "**2. Reading Data with Pandas** "
      ]
    },
    {
      "cell_type": "code",
      "metadata": {
        "id": "6KQ9QBei4rzT",
        "colab": {
          "resources": {
            "http://localhost:8080/nbextensions/google.colab/files.js": {
              "data": "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",
              "ok": true,
              "headers": [
                [
                  "content-type",
                  "application/javascript"
                ]
              ],
              "status": 200,
              "status_text": ""
            }
          },
          "base_uri": "https://localhost:8080/",
          "height": 109
        },
        "outputId": "1ca03d68-92fa-4f45-d79e-65d9fe9cefc9"
      },
      "source": [
        "import pandas as pd\n",
        "from google.colab import files\n",
        "uploaded = files.upload()"
      ],
      "execution_count": null,
      "outputs": [
        {
          "output_type": "display_data",
          "data": {
            "text/html": [
              "\n",
              "     <input type=\"file\" id=\"files-1612dd59-78d8-4d88-af55-355a545bc15c\" name=\"files[]\" multiple disabled\n",
              "        style=\"border:none\" />\n",
              "     <output id=\"result-1612dd59-78d8-4d88-af55-355a545bc15c\">\n",
              "      Upload widget is only available when the cell has been executed in the\n",
              "      current browser session. Please rerun this cell to enable.\n",
              "      </output>\n",
              "      <script src=\"/nbextensions/google.colab/files.js\"></script> "
            ],
            "text/plain": [
              "<IPython.core.display.HTML object>"
            ]
          },
          "metadata": {
            "tags": []
          }
        },
        {
          "output_type": "stream",
          "text": [
            "Saving business-price-indexes-september-2020-quarter-corrections-to-previously-published-statistics.csv to business-price-indexes-september-2020-quarter-corrections-to-previously-published-statistics.csv\n"
          ],
          "name": "stdout"
        }
      ]
    },
    {
      "cell_type": "code",
      "metadata": {
        "colab": {
          "base_uri": "https://localhost:8080/"
        },
        "id": "ZKGDvIOYpk8y",
        "outputId": "2f7a0c86-6c60-449e-d105-0a72dae11523"
      },
      "source": [
        "for fn in uploaded.keys():\n",
        "  print('User uploaded file \"{name}\" with length {length} bytes'.format(\n",
        "      name=fn, length=len(uploaded[fn])))"
      ],
      "execution_count": null,
      "outputs": [
        {
          "output_type": "stream",
          "text": [
            "User uploaded file \"business-price-indexes-september-2020-quarter-corrections-to-previously-published-statistics.csv\" with length 7662 bytes\n"
          ],
          "name": "stdout"
        }
      ]
    },
    {
      "cell_type": "code",
      "metadata": {
        "colab": {
          "base_uri": "https://localhost:8080/"
        },
        "id": "4RHY62lYqGsL",
        "outputId": "e2c48bca-4735-4949-9313-3b470e1f957a"
      },
      "source": [
        "uploaded"
      ],
      "execution_count": null,
      "outputs": [
        {
          "output_type": "execute_result",
          "data": {
            "text/plain": [
              "{'business-price-indexes-september-2020-quarter-corrections-to-previously-published-statistics.csv': b'\"Series reference\",\"Description\",\"Period\",\"Previously published\",\"Revised\"\\n\"PPIQ.SQU900000\",\"PPI output index - All industries \",\"2020.06\",1183,1184\\n\"PPIQ.SQU900001\",\"PPI output index - All industries excl OOD\",\"2020.06\",1180,1181\\n\"PPIQ.SQUC76745\",\"PPI published output commodity - Transport support services\",\"2020.06\",1400,1603\\n\"PPIQ.SQUCC3100\",\"PPI output index level 3 - Wood product manufacturing\",\"2020.06\",1169,1170\\n\"PPIQ.SQUCC3110\",\"PPI output index level 4 - Wood product manufacturing\",\"2020.06\",1169,1170\\n\"PPIQ.SQUFF0000\",\"PPI output index level 1 - Wholesale trade\",\"2020.06\",1132,1133\\n\"PPIQ.SQUFF1000\",\"PPI output index level 2 - Wholesale trade\",\"2020.06\",1132,1133\\n\"PPIQ.SQUFF1100\",\"PPI output index level 3 - Wholesale trade\",\"2020.06\",1132,1133\\n\"PPIQ.SQUFF1110\",\"PPI output index level 4 - Basic material wholesaling\",\"2020.06\",1147,1149\\n\"PPIQ.SQUFF1160\",\"PPI output index level 4 - Commission based wholesaling\",\"2020.06\",1106,1112\\n\"PPIQ.SQUII0000\",\"PPI output index level 1 - Transport, postal and warehousing\",\"2020.06\",1231,1249\\n\"PPIQ.SQUII1000\",\"PPI output index level 2 - Transport, postal and warehousing\",\"2020.06\",1231,1249\\n\"PPIQ.SQUII1100\",\"PPI output index level 3 - Road transport\",\"2020.06\",1170,1174\\n\"PPIQ.SQUII1110\",\"PPI output index level 4 - Road transport\",\"2020.06\",1170,1174\\n\"PPIQ.SQUII1200\",\"PPI output index level 3 - Rail, water, air and other transport\",\"2020.06\",1237,1238\\n\"PPIQ.SQUII1300\",\"PPI output index level 3 - Postal, courier transport support, and warehousing\",\"2020.06\",1269,1318\\n\"PPIQ.SQUMN2000\",\"PPI output index level 2 - Administrative and support services\",\"2020.06\",1187,1188\\n\"PPIQ.SQUMN2100\",\"PPI output index level 3 - Administrative and Support Services\",\"2020.06\",1187,1188\\n\"PPIQ.SQURS2000\",\"PPI output index level 2 - Other services\",\"2020.06\",1270,1271\\n\"PPIQ.SQURS2100\",\"PPI output index level 3 - Other Services\",\"2020.06\",1270,1271\\n\"PPIQ.SQN800000\",\"PPI input index - All industries excl admin, healh, education\",\"2020.06\",1152,1153\\n\"PPIQ.SQN800001\",\"PPI input index - All industries excl admin, healh, education, OOD\",\"2020.06\",1152,1153\\n\"PPIQ.SQN900000\",\"PPI input index - All industries \",\"2020.06\",1153,1154\\n\"PPIQ.SQN900001\",\"PPI input index - All industries excl OOD\",\"2020.06\",1152,1153\\n\"PPIQ.SQNC76745\",\"PPI published input commodity - Transport support services\",\"2020.06\",1415,1568\\n\"PPIQ.SQNCC0000\",\"PPI input index level 1 - Manufacturing\",\"2020.06\",1102,1103\\n\"PPIQ.SQNCC1000\",\"PPI input index level 2 - Food, beverage and tobacco product manufacturing\",\"2020.06\",1165,1166\\n\"PPIQ.SQNCC1100\",\"PPI input index level 3 - Meat and meat product manufacturing\",\"2020.06\",1260,1264\\n\"PPIQ.SQNCC111X\",\"PPI input index level 4 - Meat and meat product manufacturing\",\"2020.06\",1260,1264\\n\"PPIQ.SQNCC2000\",\"PPI input index level 2 - Textile, leather, clothing and footwear manufacturing\",\"2020.06\",956,957\\n\"PPIQ.SQNCC2100\",\"PPI input index level 3 - Textile, leather, clothing and footwear manufacturing\",\"2020.06\",956,957\\n\"PPIQ.SQNCC211X\",\"PPI input index level 4 - Textile and leather manufacturing\",\"2020.06\",903,904\\n\"PPIQ.SQNCC212X\",\"PPI input index level 4 - Clothing, knitted products and footwear manufacturing\",\"2020.06\",1212,1213\\n\"PPIQ.SQNCC3000\",\"PPI input index level 2 - Wood and paper products manufacturing\",\"2020.06\",1143,1144\\n\"PPIQ.SQNCC3100\",\"PPI input index level 3 - Wood product manufacturing\",\"2020.06\",1163,1164\\n\"PPIQ.SQNCC311X\",\"PPI input index level 4 - Wood product manufacturing\",\"2020.06\",1163,1164\\n\"PPIQ.SQNCC3200\",\"PPI input index level 3 - Pulp, paper and converted paper product manufacturing\",\"2020.06\",1114,1115\\n\"PPIQ.SQNCC321X\",\"PPI input index level 4 - Pulp, paper and converted paper product manufacturing\",\"2020.06\",1114,1115\\n\"PPIQ.SQNCC5300\",\"PPI input index level 3 - Polymer product and rubber product manufacturing\",\"2020.06\",1149,1151\\n\"PPIQ.SQNCC531X\",\"PPI input index level 4 - Polymer product and rubber product manufacturing\",\"2020.06\",1149,1151\\n\"PPIQ.SQNCC6000\",\"PPI input index level 2 - Non-metallic mineral product manufacturing\",\"2020.06\",1137,1141\\n\"PPIQ.SQNCC6100\",\"PPI input index level 3 - Non-metallic mineral product manufacturing\",\"2020.06\",1137,1141\\n\"PPIQ.SQNCC611X\",\"PPI input index level 4 - Non-metallic mineral product manufacturing\",\"2020.06\",1137,1141\\n\"PPIQ.SQNCC9000\",\"PPI input index level 2 - Furniture and other manufacturing\",\"2020.06\",1189,1192\\n\"PPIQ.SQNCC9100\",\"PPI input index level 3 - Furniture and other manufacturing\",\"2020.06\",1189,1192\\n\"PPIQ.SQNCC911X\",\"PPI input index level 4 - Furniture manufacturing\",\"2020.06\",1158,1161\\n\"PPIQ.SQNCC912X\",\"PPI input index level 4 - Other manufacturing\",\"2020.06\",1251,1252\\n\"PPIQ.SQNDD0000\",\"PPI input index level 1 - Electricity, gas, water and waste services\",\"2020.06\",1232,1233\\n\"PPIQ.SQNDD1000\",\"PPI input index level 2 - Electricity, gas, water and waste services\",\"2020.06\",1232,1233\\n\"PPIQ.SQNDD1200\",\"PPI input index level 3 - Water, sewerage, drainage and waste services\",\"2020.06\",1282,1283\\n\"PPIQ.SQNFF0000\",\"PPI input index level 1 - Wholesale trade\",\"2020.06\",1139,1142\\n\"PPIQ.SQNFF1000\",\"PPI input index level 2 - Wholesale trade\",\"2020.06\",1139,1142\\n\"PPIQ.SQNFF1100\",\"PPI input index level 3 - Wholesale trade\",\"2020.06\",1139,1142\\n\"PPIQ.SQNFF111X\",\"PPI input index level 4 - Basic material wholesaling\",\"2020.06\",1117,1120\\n\"PPIQ.SQNFF112X\",\"PPI input index level 4 - Machinery & equipment wholesaling\",\"2020.06\",1146,1148\\n\"PPIQ.SQNFF113X\",\"PPI input index level 4 - Motor vehicle & parts wholesaling\",\"2020.06\",1124,1126\\n\"PPIQ.SQNFF114X\",\"PPI input index level 4 - Grocery, liquor, tobacco wholesaling\",\"2020.06\",1151,1155\\n\"PPIQ.SQNFF115X\",\"PPI input index level 4 - Other goods wholesaling\",\"2020.06\",1156,1159\\n\"PPIQ.SQNFF116X\",\"PPI input index level 4 - Commission based wholesaling\",\"2020.06\",1120,1122\\n\"PPIQ.SQNGH1300\",\"PPI input index level 3 - Other Store-Based Retailing and Non Store Retailing\",\"2020.06\",1142,1143\\n\"PPIQ.SQNII0000\",\"PPI input index level 1 - Transport, postal and warehousing\",\"2020.06\",1114,1124\\n\"PPIQ.SQNII1000\",\"PPI input index level 2 - Transport, postal and warehousing\",\"2020.06\",1114,1124\\n\"PPIQ.SQNII1100\",\"PPI input index level 3 - Road transport\",\"2020.06\",1133,1142\\n\"PPIQ.SQNII111X\",\"PPI input index level 4 - Road transport\",\"2020.06\",1133,1142\\n\"PPIQ.SQNII1200\",\"PPI input index level 3 - Rail, water, air and other transport\",\"2020.06\",1031,1033\\n\"PPIQ.SQNII1300\",\"PPI input index level 3 - Postal, courier transport support, and warehousing\",\"2020.06\",1237,1262\\n\"PPIQ.SQNJJ0000\",\"PPI input index level 1 - Information media and telecommunications\",\"2020.06\",997,998\\n\"PPIQ.SQNJJ1000\",\"PPI input index level 2 - Information media and telecommunications\",\"2020.06\",997,998\\n\"PPIQ.SQNJJ1100\",\"PPI input index level 3 - Information media services\",\"2020.06\",1061,1062\\n\"PPIQ.SQNJJ111X\",\"PPI input index level 4 - Publishing (ex internet & music)\",\"2020.06\",1107,1110\\n\"PPIQ.SQNLL1100\",\"PPI input index level 3 - Rental and hiring services (except real estate)\",\"2020.06\",1223,1224\\n\"PPIQ.SQNMN114X\",\"PPI input index level 4 - Vet & other professional services\",\"2020.06\",1212,1213\\n\"PPIQ.SQNMN2000\",\"PPI input index level 2 - Administrative and support services\",\"2020.06\",1194,1195\\n\"PPIQ.SQNMN2100\",\"PPI input index level 3 - Administrative and support services\",\"2020.06\",1194,1195\\n\"PPIQ.SQNRS211X\",\"PPI input index level 4 - Repair & maintenance\",\"2020.06\",1126,1127\\n\"FPIQ.SEC14\",\"Farm expenses price index - Dairy farms - Freight\",\"2020.06\",1102,1120\\n\"FPIQ.SEC99\",\"Farm expenses price index - Dairy farms - All Inputs Including Livestock\",\"2020.06\",1067,1068\\n\"FPIQ.SEH14\",\"Farm expenses price index - All farms - Freight\",\"2020.06\",1102,1110\\n'}"
            ]
          },
          "metadata": {
            "tags": []
          },
          "execution_count": 11
        }
      ]
    },
    {
      "cell_type": "code",
      "metadata": {
        "id": "w7uqlBm5wZu2"
      },
      "source": [
        "import io"
      ],
      "execution_count": null,
      "outputs": []
    },
    {
      "cell_type": "code",
      "metadata": {
        "colab": {
          "base_uri": "https://localhost:8080/"
        },
        "id": "-8tOuLlbtPLd",
        "outputId": "6b1a6330-3c61-4dc2-d770-4030933c68e3"
      },
      "source": [
        "sample_df = pd.read_csv('business-price-indexes-september-2020-quarter-corrections-to-previously-published-statistics.csv')\n",
        "print(sample_df.head()) "
      ],
      "execution_count": null,
      "outputs": [
        {
          "output_type": "stream",
          "text": [
            "  Series reference  ... Revised\n",
            "0   PPIQ.SQU900000  ...    1184\n",
            "1   PPIQ.SQU900001  ...    1181\n",
            "2   PPIQ.SQUC76745  ...    1603\n",
            "3   PPIQ.SQUCC3100  ...    1170\n",
            "4   PPIQ.SQUCC3110  ...    1170\n",
            "\n",
            "[5 rows x 5 columns]\n"
          ],
          "name": "stdout"
        }
      ]
    },
    {
      "cell_type": "code",
      "metadata": {
        "colab": {
          "base_uri": "https://localhost:8080/"
        },
        "id": "5ERbAFZQxXnc",
        "outputId": "42f01fa1-9592-4a4b-a00f-aebcf35f0b6e"
      },
      "source": [
        "print(sample_df.describe())"
      ],
      "execution_count": null,
      "outputs": [
        {
          "output_type": "stream",
          "text": [
            "             Period  Previously published      Revised\n",
            "count  7.800000e+01             78.000000    78.000000\n",
            "mean   2.020060e+03           1157.256410  1165.589744\n",
            "std    1.601918e-12             82.629581   100.669633\n",
            "min    2.020060e+03            903.000000   904.000000\n",
            "25%    2.020060e+03           1124.500000  1126.250000\n",
            "50%    2.020060e+03           1151.500000  1153.000000\n",
            "75%    2.020060e+03           1192.750000  1194.250000\n",
            "max    2.020060e+03           1415.000000  1603.000000\n"
          ],
          "name": "stdout"
        }
      ]
    },
    {
      "cell_type": "markdown",
      "metadata": {
        "id": "hicX9bpD68Uh"
      },
      "source": [
        "**3. Manipulating Data with Pandas**"
      ]
    },
    {
      "cell_type": "markdown",
      "metadata": {
        "id": "b_24Me1F-xtw"
      },
      "source": [
        "i. selecting a single column"
      ]
    },
    {
      "cell_type": "code",
      "metadata": {
        "colab": {
          "base_uri": "https://localhost:8080/"
        },
        "id": "eypw5XiSyKc1",
        "outputId": "b1ca1bb2-9b4d-4c0f-c818-1e8bc523dd10"
      },
      "source": [
        "import pandas as pd\n",
        "sample_df = pd.read_csv('business-price-indexes-september-2020-quarter-corrections-to-previously-published-statistics.csv')\n",
        "col = sample_df['Revised']\n",
        "print(col)"
      ],
      "execution_count": null,
      "outputs": [
        {
          "output_type": "stream",
          "text": [
            "0     1184\n",
            "1     1181\n",
            "2     1603\n",
            "3     1170\n",
            "4     1170\n",
            "      ... \n",
            "73    1195\n",
            "74    1127\n",
            "75    1120\n",
            "76    1068\n",
            "77    1110\n",
            "Name: Revised, Length: 78, dtype: int64\n"
          ],
          "name": "stdout"
        }
      ]
    },
    {
      "cell_type": "markdown",
      "metadata": {
        "id": "MohfxSye-9nO"
      },
      "source": [
        "ii. selecting multiple column"
      ]
    },
    {
      "cell_type": "code",
      "metadata": {
        "colab": {
          "base_uri": "https://localhost:8080/"
        },
        "id": "jD3ZnLNF-hlV",
        "outputId": "101856c2-0472-47c3-8dd2-e400fad93ad8"
      },
      "source": [
        "small_df = sample_df[['Period','Previously published','Revised']]\n",
        "print(small_df)"
      ],
      "execution_count": null,
      "outputs": [
        {
          "output_type": "stream",
          "text": [
            "     Period  Previously published  Revised\n",
            "0   2020.06                  1183     1184\n",
            "1   2020.06                  1180     1181\n",
            "2   2020.06                  1400     1603\n",
            "3   2020.06                  1169     1170\n",
            "4   2020.06                  1169     1170\n",
            "..      ...                   ...      ...\n",
            "73  2020.06                  1194     1195\n",
            "74  2020.06                  1126     1127\n",
            "75  2020.06                  1102     1120\n",
            "76  2020.06                  1067     1068\n",
            "77  2020.06                  1102     1110\n",
            "\n",
            "[78 rows x 3 columns]\n"
          ],
          "name": "stdout"
        }
      ]
    },
    {
      "cell_type": "markdown",
      "metadata": {
        "id": "0WcQrz-S_9iJ"
      },
      "source": [
        "iii. Creating a column "
      ]
    },
    {
      "cell_type": "code",
      "metadata": {
        "colab": {
          "base_uri": "https://localhost:8080/",
          "height": 323
        },
        "id": "mqtt_UjeADLB",
        "outputId": "d6286266-8dd2-4ec0-9524-a9c105134273"
      },
      "source": [
        "sample_df['Future rate'] = sample_df['Revised']>'1200'\n",
        "print(df.head())"
      ],
      "execution_count": null,
      "outputs": [
        {
          "output_type": "error",
          "ename": "TypeError",
          "evalue": "ignored",
          "traceback": [
            "\u001b[0;31m---------------------------------------------------------------------------\u001b[0m",
            "\u001b[0;31mTypeError\u001b[0m                                 Traceback (most recent call last)",
            "\u001b[0;32m<ipython-input-25-c1c8b8d463bf>\u001b[0m in \u001b[0;36m<module>\u001b[0;34m()\u001b[0m\n\u001b[0;32m----> 1\u001b[0;31m \u001b[0msample_df\u001b[0m\u001b[0;34m[\u001b[0m\u001b[0;34m'Future rate'\u001b[0m\u001b[0;34m]\u001b[0m \u001b[0;34m=\u001b[0m \u001b[0msample_df\u001b[0m\u001b[0;34m[\u001b[0m\u001b[0;34m'Revised'\u001b[0m\u001b[0;34m]\u001b[0m\u001b[0;34m>\u001b[0m\u001b[0;34m'1200'\u001b[0m\u001b[0;34m\u001b[0m\u001b[0;34m\u001b[0m\u001b[0m\n\u001b[0m\u001b[1;32m      2\u001b[0m \u001b[0mprint\u001b[0m\u001b[0;34m(\u001b[0m\u001b[0mdf\u001b[0m\u001b[0;34m.\u001b[0m\u001b[0mhead\u001b[0m\u001b[0;34m(\u001b[0m\u001b[0;34m)\u001b[0m\u001b[0;34m)\u001b[0m\u001b[0;34m\u001b[0m\u001b[0;34m\u001b[0m\u001b[0m\n",
            "\u001b[0;32m/usr/local/lib/python3.7/dist-packages/pandas/core/ops/common.py\u001b[0m in \u001b[0;36mnew_method\u001b[0;34m(self, other)\u001b[0m\n\u001b[1;32m     63\u001b[0m         \u001b[0mother\u001b[0m \u001b[0;34m=\u001b[0m \u001b[0mitem_from_zerodim\u001b[0m\u001b[0;34m(\u001b[0m\u001b[0mother\u001b[0m\u001b[0;34m)\u001b[0m\u001b[0;34m\u001b[0m\u001b[0;34m\u001b[0m\u001b[0m\n\u001b[1;32m     64\u001b[0m \u001b[0;34m\u001b[0m\u001b[0m\n\u001b[0;32m---> 65\u001b[0;31m         \u001b[0;32mreturn\u001b[0m \u001b[0mmethod\u001b[0m\u001b[0;34m(\u001b[0m\u001b[0mself\u001b[0m\u001b[0;34m,\u001b[0m \u001b[0mother\u001b[0m\u001b[0;34m)\u001b[0m\u001b[0;34m\u001b[0m\u001b[0;34m\u001b[0m\u001b[0m\n\u001b[0m\u001b[1;32m     66\u001b[0m \u001b[0;34m\u001b[0m\u001b[0m\n\u001b[1;32m     67\u001b[0m     \u001b[0;32mreturn\u001b[0m \u001b[0mnew_method\u001b[0m\u001b[0;34m\u001b[0m\u001b[0;34m\u001b[0m\u001b[0m\n",
            "\u001b[0;32m/usr/local/lib/python3.7/dist-packages/pandas/core/ops/__init__.py\u001b[0m in \u001b[0;36mwrapper\u001b[0;34m(self, other)\u001b[0m\n\u001b[1;32m    368\u001b[0m         \u001b[0mrvalues\u001b[0m \u001b[0;34m=\u001b[0m \u001b[0mextract_array\u001b[0m\u001b[0;34m(\u001b[0m\u001b[0mother\u001b[0m\u001b[0;34m,\u001b[0m \u001b[0mextract_numpy\u001b[0m\u001b[0;34m=\u001b[0m\u001b[0;32mTrue\u001b[0m\u001b[0;34m)\u001b[0m\u001b[0;34m\u001b[0m\u001b[0;34m\u001b[0m\u001b[0m\n\u001b[1;32m    369\u001b[0m \u001b[0;34m\u001b[0m\u001b[0m\n\u001b[0;32m--> 370\u001b[0;31m         \u001b[0mres_values\u001b[0m \u001b[0;34m=\u001b[0m \u001b[0mcomparison_op\u001b[0m\u001b[0;34m(\u001b[0m\u001b[0mlvalues\u001b[0m\u001b[0;34m,\u001b[0m \u001b[0mrvalues\u001b[0m\u001b[0;34m,\u001b[0m \u001b[0mop\u001b[0m\u001b[0;34m)\u001b[0m\u001b[0;34m\u001b[0m\u001b[0;34m\u001b[0m\u001b[0m\n\u001b[0m\u001b[1;32m    371\u001b[0m \u001b[0;34m\u001b[0m\u001b[0m\n\u001b[1;32m    372\u001b[0m         \u001b[0;32mreturn\u001b[0m \u001b[0mself\u001b[0m\u001b[0;34m.\u001b[0m\u001b[0m_construct_result\u001b[0m\u001b[0;34m(\u001b[0m\u001b[0mres_values\u001b[0m\u001b[0;34m,\u001b[0m \u001b[0mname\u001b[0m\u001b[0;34m=\u001b[0m\u001b[0mres_name\u001b[0m\u001b[0;34m)\u001b[0m\u001b[0;34m\u001b[0m\u001b[0;34m\u001b[0m\u001b[0m\n",
            "\u001b[0;32m/usr/local/lib/python3.7/dist-packages/pandas/core/ops/array_ops.py\u001b[0m in \u001b[0;36mcomparison_op\u001b[0;34m(left, right, op)\u001b[0m\n\u001b[1;32m    239\u001b[0m     \u001b[0;32melif\u001b[0m \u001b[0mis_numeric_v_string_like\u001b[0m\u001b[0;34m(\u001b[0m\u001b[0mlvalues\u001b[0m\u001b[0;34m,\u001b[0m \u001b[0mrvalues\u001b[0m\u001b[0;34m)\u001b[0m\u001b[0;34m:\u001b[0m\u001b[0;34m\u001b[0m\u001b[0;34m\u001b[0m\u001b[0m\n\u001b[1;32m    240\u001b[0m         \u001b[0;31m# GH#36377 going through the numexpr path would incorrectly raise\u001b[0m\u001b[0;34m\u001b[0m\u001b[0;34m\u001b[0m\u001b[0;34m\u001b[0m\u001b[0m\n\u001b[0;32m--> 241\u001b[0;31m         \u001b[0;32mreturn\u001b[0m \u001b[0minvalid_comparison\u001b[0m\u001b[0;34m(\u001b[0m\u001b[0mlvalues\u001b[0m\u001b[0;34m,\u001b[0m \u001b[0mrvalues\u001b[0m\u001b[0;34m,\u001b[0m \u001b[0mop\u001b[0m\u001b[0;34m)\u001b[0m\u001b[0;34m\u001b[0m\u001b[0;34m\u001b[0m\u001b[0m\n\u001b[0m\u001b[1;32m    242\u001b[0m \u001b[0;34m\u001b[0m\u001b[0m\n\u001b[1;32m    243\u001b[0m     \u001b[0;32melif\u001b[0m \u001b[0mis_object_dtype\u001b[0m\u001b[0;34m(\u001b[0m\u001b[0mlvalues\u001b[0m\u001b[0;34m.\u001b[0m\u001b[0mdtype\u001b[0m\u001b[0;34m)\u001b[0m\u001b[0;34m:\u001b[0m\u001b[0;34m\u001b[0m\u001b[0;34m\u001b[0m\u001b[0m\n",
            "\u001b[0;32m/usr/local/lib/python3.7/dist-packages/pandas/core/ops/invalid.py\u001b[0m in \u001b[0;36minvalid_comparison\u001b[0;34m(left, right, op)\u001b[0m\n\u001b[1;32m     32\u001b[0m     \u001b[0;32melse\u001b[0m\u001b[0;34m:\u001b[0m\u001b[0;34m\u001b[0m\u001b[0;34m\u001b[0m\u001b[0m\n\u001b[1;32m     33\u001b[0m         \u001b[0mtyp\u001b[0m \u001b[0;34m=\u001b[0m \u001b[0mtype\u001b[0m\u001b[0;34m(\u001b[0m\u001b[0mright\u001b[0m\u001b[0;34m)\u001b[0m\u001b[0;34m.\u001b[0m\u001b[0m__name__\u001b[0m\u001b[0;34m\u001b[0m\u001b[0;34m\u001b[0m\u001b[0m\n\u001b[0;32m---> 34\u001b[0;31m         \u001b[0;32mraise\u001b[0m \u001b[0mTypeError\u001b[0m\u001b[0;34m(\u001b[0m\u001b[0;34mf\"Invalid comparison between dtype={left.dtype} and {typ}\"\u001b[0m\u001b[0;34m)\u001b[0m\u001b[0;34m\u001b[0m\u001b[0;34m\u001b[0m\u001b[0m\n\u001b[0m\u001b[1;32m     35\u001b[0m     \u001b[0;32mreturn\u001b[0m \u001b[0mres_values\u001b[0m\u001b[0;34m\u001b[0m\u001b[0;34m\u001b[0m\u001b[0m\n\u001b[1;32m     36\u001b[0m \u001b[0;34m\u001b[0m\u001b[0m\n",
            "\u001b[0;31mTypeError\u001b[0m: Invalid comparison between dtype=int64 and str"
          ]
        }
      ]
    },
    {
      "cell_type": "markdown",
      "metadata": {
        "id": "iZ9AqAulEwhW"
      },
      "source": [
        "**4. Numpy Basics**"
      ]
    },
    {
      "cell_type": "code",
      "metadata": {
        "id": "hCPm00iyE4eB"
      },
      "source": [
        "import pandas as pd \n",
        "sample_df = pd.read_csv('business-price-indexes-september-2020-quarter-corrections-to-previously-published-statistics.csv')\n",
        "arr = sample_df[['pclass']]\n"
      ],
      "execution_count": null,
      "outputs": []
    }
  ]
}